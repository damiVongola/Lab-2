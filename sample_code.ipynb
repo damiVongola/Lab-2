{
 "cells": [
  {
   "cell_type": "markdown",
   "id": "db75357f-87aa-4e10-ba37-d10a5d0f89cf",
   "metadata": {},
   "source": [
    "# Regression\n",
    "\n",
    "You will be using the Diabetes dataset from sklearn for all your Regression tasks\n",
    "\n",
    "Get the dataset using the following command:"
   ]
  },
  {
   "cell_type": "code",
   "execution_count": 1,
   "id": "0291850a-8c25-4ea5-9663-be3c9b3809aa",
   "metadata": {},
   "outputs": [
    {
     "data": {
      "text/html": [
       "<div>\n",
       "<style scoped>\n",
       "    .dataframe tbody tr th:only-of-type {\n",
       "        vertical-align: middle;\n",
       "    }\n",
       "\n",
       "    .dataframe tbody tr th {\n",
       "        vertical-align: top;\n",
       "    }\n",
       "\n",
       "    .dataframe thead th {\n",
       "        text-align: right;\n",
       "    }\n",
       "</style>\n",
       "<table border=\"1\" class=\"dataframe\">\n",
       "  <thead>\n",
       "    <tr style=\"text-align: right;\">\n",
       "      <th></th>\n",
       "      <th>age</th>\n",
       "      <th>sex</th>\n",
       "      <th>bmi</th>\n",
       "      <th>bp</th>\n",
       "      <th>s1</th>\n",
       "      <th>s2</th>\n",
       "      <th>s3</th>\n",
       "      <th>s4</th>\n",
       "      <th>s5</th>\n",
       "      <th>s6</th>\n",
       "      <th>target</th>\n",
       "    </tr>\n",
       "  </thead>\n",
       "  <tbody>\n",
       "    <tr>\n",
       "      <th>0</th>\n",
       "      <td>0.038076</td>\n",
       "      <td>0.050680</td>\n",
       "      <td>0.061696</td>\n",
       "      <td>0.021872</td>\n",
       "      <td>-0.044223</td>\n",
       "      <td>-0.034821</td>\n",
       "      <td>-0.043401</td>\n",
       "      <td>-0.002592</td>\n",
       "      <td>0.019907</td>\n",
       "      <td>-0.017646</td>\n",
       "      <td>151.0</td>\n",
       "    </tr>\n",
       "    <tr>\n",
       "      <th>1</th>\n",
       "      <td>-0.001882</td>\n",
       "      <td>-0.044642</td>\n",
       "      <td>-0.051474</td>\n",
       "      <td>-0.026328</td>\n",
       "      <td>-0.008449</td>\n",
       "      <td>-0.019163</td>\n",
       "      <td>0.074412</td>\n",
       "      <td>-0.039493</td>\n",
       "      <td>-0.068332</td>\n",
       "      <td>-0.092204</td>\n",
       "      <td>75.0</td>\n",
       "    </tr>\n",
       "    <tr>\n",
       "      <th>2</th>\n",
       "      <td>0.085299</td>\n",
       "      <td>0.050680</td>\n",
       "      <td>0.044451</td>\n",
       "      <td>-0.005670</td>\n",
       "      <td>-0.045599</td>\n",
       "      <td>-0.034194</td>\n",
       "      <td>-0.032356</td>\n",
       "      <td>-0.002592</td>\n",
       "      <td>0.002861</td>\n",
       "      <td>-0.025930</td>\n",
       "      <td>141.0</td>\n",
       "    </tr>\n",
       "    <tr>\n",
       "      <th>3</th>\n",
       "      <td>-0.089063</td>\n",
       "      <td>-0.044642</td>\n",
       "      <td>-0.011595</td>\n",
       "      <td>-0.036656</td>\n",
       "      <td>0.012191</td>\n",
       "      <td>0.024991</td>\n",
       "      <td>-0.036038</td>\n",
       "      <td>0.034309</td>\n",
       "      <td>0.022688</td>\n",
       "      <td>-0.009362</td>\n",
       "      <td>206.0</td>\n",
       "    </tr>\n",
       "    <tr>\n",
       "      <th>4</th>\n",
       "      <td>0.005383</td>\n",
       "      <td>-0.044642</td>\n",
       "      <td>-0.036385</td>\n",
       "      <td>0.021872</td>\n",
       "      <td>0.003935</td>\n",
       "      <td>0.015596</td>\n",
       "      <td>0.008142</td>\n",
       "      <td>-0.002592</td>\n",
       "      <td>-0.031988</td>\n",
       "      <td>-0.046641</td>\n",
       "      <td>135.0</td>\n",
       "    </tr>\n",
       "    <tr>\n",
       "      <th>...</th>\n",
       "      <td>...</td>\n",
       "      <td>...</td>\n",
       "      <td>...</td>\n",
       "      <td>...</td>\n",
       "      <td>...</td>\n",
       "      <td>...</td>\n",
       "      <td>...</td>\n",
       "      <td>...</td>\n",
       "      <td>...</td>\n",
       "      <td>...</td>\n",
       "      <td>...</td>\n",
       "    </tr>\n",
       "    <tr>\n",
       "      <th>437</th>\n",
       "      <td>0.041708</td>\n",
       "      <td>0.050680</td>\n",
       "      <td>0.019662</td>\n",
       "      <td>0.059744</td>\n",
       "      <td>-0.005697</td>\n",
       "      <td>-0.002566</td>\n",
       "      <td>-0.028674</td>\n",
       "      <td>-0.002592</td>\n",
       "      <td>0.031193</td>\n",
       "      <td>0.007207</td>\n",
       "      <td>178.0</td>\n",
       "    </tr>\n",
       "    <tr>\n",
       "      <th>438</th>\n",
       "      <td>-0.005515</td>\n",
       "      <td>0.050680</td>\n",
       "      <td>-0.015906</td>\n",
       "      <td>-0.067642</td>\n",
       "      <td>0.049341</td>\n",
       "      <td>0.079165</td>\n",
       "      <td>-0.028674</td>\n",
       "      <td>0.034309</td>\n",
       "      <td>-0.018114</td>\n",
       "      <td>0.044485</td>\n",
       "      <td>104.0</td>\n",
       "    </tr>\n",
       "    <tr>\n",
       "      <th>439</th>\n",
       "      <td>0.041708</td>\n",
       "      <td>0.050680</td>\n",
       "      <td>-0.015906</td>\n",
       "      <td>0.017293</td>\n",
       "      <td>-0.037344</td>\n",
       "      <td>-0.013840</td>\n",
       "      <td>-0.024993</td>\n",
       "      <td>-0.011080</td>\n",
       "      <td>-0.046883</td>\n",
       "      <td>0.015491</td>\n",
       "      <td>132.0</td>\n",
       "    </tr>\n",
       "    <tr>\n",
       "      <th>440</th>\n",
       "      <td>-0.045472</td>\n",
       "      <td>-0.044642</td>\n",
       "      <td>0.039062</td>\n",
       "      <td>0.001215</td>\n",
       "      <td>0.016318</td>\n",
       "      <td>0.015283</td>\n",
       "      <td>-0.028674</td>\n",
       "      <td>0.026560</td>\n",
       "      <td>0.044529</td>\n",
       "      <td>-0.025930</td>\n",
       "      <td>220.0</td>\n",
       "    </tr>\n",
       "    <tr>\n",
       "      <th>441</th>\n",
       "      <td>-0.045472</td>\n",
       "      <td>-0.044642</td>\n",
       "      <td>-0.073030</td>\n",
       "      <td>-0.081413</td>\n",
       "      <td>0.083740</td>\n",
       "      <td>0.027809</td>\n",
       "      <td>0.173816</td>\n",
       "      <td>-0.039493</td>\n",
       "      <td>-0.004222</td>\n",
       "      <td>0.003064</td>\n",
       "      <td>57.0</td>\n",
       "    </tr>\n",
       "  </tbody>\n",
       "</table>\n",
       "<p>442 rows × 11 columns</p>\n",
       "</div>"
      ],
      "text/plain": [
       "          age       sex       bmi        bp        s1        s2        s3  \\\n",
       "0    0.038076  0.050680  0.061696  0.021872 -0.044223 -0.034821 -0.043401   \n",
       "1   -0.001882 -0.044642 -0.051474 -0.026328 -0.008449 -0.019163  0.074412   \n",
       "2    0.085299  0.050680  0.044451 -0.005670 -0.045599 -0.034194 -0.032356   \n",
       "3   -0.089063 -0.044642 -0.011595 -0.036656  0.012191  0.024991 -0.036038   \n",
       "4    0.005383 -0.044642 -0.036385  0.021872  0.003935  0.015596  0.008142   \n",
       "..        ...       ...       ...       ...       ...       ...       ...   \n",
       "437  0.041708  0.050680  0.019662  0.059744 -0.005697 -0.002566 -0.028674   \n",
       "438 -0.005515  0.050680 -0.015906 -0.067642  0.049341  0.079165 -0.028674   \n",
       "439  0.041708  0.050680 -0.015906  0.017293 -0.037344 -0.013840 -0.024993   \n",
       "440 -0.045472 -0.044642  0.039062  0.001215  0.016318  0.015283 -0.028674   \n",
       "441 -0.045472 -0.044642 -0.073030 -0.081413  0.083740  0.027809  0.173816   \n",
       "\n",
       "           s4        s5        s6  target  \n",
       "0   -0.002592  0.019907 -0.017646   151.0  \n",
       "1   -0.039493 -0.068332 -0.092204    75.0  \n",
       "2   -0.002592  0.002861 -0.025930   141.0  \n",
       "3    0.034309  0.022688 -0.009362   206.0  \n",
       "4   -0.002592 -0.031988 -0.046641   135.0  \n",
       "..        ...       ...       ...     ...  \n",
       "437 -0.002592  0.031193  0.007207   178.0  \n",
       "438  0.034309 -0.018114  0.044485   104.0  \n",
       "439 -0.011080 -0.046883  0.015491   132.0  \n",
       "440  0.026560  0.044529 -0.025930   220.0  \n",
       "441 -0.039493 -0.004222  0.003064    57.0  \n",
       "\n",
       "[442 rows x 11 columns]"
      ]
     },
     "execution_count": 1,
     "metadata": {},
     "output_type": "execute_result"
    }
   ],
   "source": [
    "from sklearn.datasets import load_diabetes\n",
    "diabetes_df =  load_diabetes(as_frame=True).frame\n",
    "diabetes_df"
   ]
  },
  {
   "cell_type": "markdown",
   "id": "2aa8d228-c077-4eec-8fd5-18b6fbe2d6fa",
   "metadata": {},
   "source": [
    "Your objectives are available in the README.md file accompanying this notebook:\n",
    "\n",
    "I will be providing a jupyter file with headers for where you can insert your answers for each question\n",
    "\n",
    "Below we will be going over the following to help you with the Lab:\n",
    "- How to create a ***correlation matrix***\n",
    "- How to select the best k features using ***pearsons correlation***\n",
    "  - How to show which features were selected with pearsons correlation\n",
    "- How to do ***forward selection***\n",
    "  - How to show which features were selected with forward selection\n",
    "- How to do ***backward elimination***\n",
    "  - Showing how features are selected is the same as withforward selection \n",
    "- How to do ***recursive feature Elimination***\n",
    "  - How to show which features were selected\n",
    "  - How to show ranking of features\n",
    "- How to do ***cross validation*** with ***ShuffleSplit***\n",
    "- How to use ***RidgeCV*** to find the best regularization ***parameter/alpha***\n",
    "  - How to grab the best alpha from RidgeCV\n",
    "- How to use ***Regularized Linear Regression/Ridge Regression***\n",
    "- How to plot a ***learning curve***\n",
    "- How to do ***LassoCV Regression*** \n",
    "  - How to grab features that have been selected\n",
    "- How to do regular ***LassoRegression*** \n",
    "\n",
    "***Note:*** I will not be going over the LinearRegression class as it is covered in the previous Lab <br>\n",
    "***Note*** I will not be going over rsquared and mse as thety are covered in the previous lab"
   ]
  },
  {
   "cell_type": "markdown",
   "id": "f920ab12-07d4-4201-9ab2-0fbbd9096c28",
   "metadata": {},
   "source": [
    "## Below is our sample data for our demonstration."
   ]
  },
  {
   "cell_type": "code",
   "execution_count": 2,
   "id": "50acf265-a6eb-4cb7-9b82-6b0271e28510",
   "metadata": {},
   "outputs": [
    {
     "data": {
      "text/html": [
       "<div>\n",
       "<style scoped>\n",
       "    .dataframe tbody tr th:only-of-type {\n",
       "        vertical-align: middle;\n",
       "    }\n",
       "\n",
       "    .dataframe tbody tr th {\n",
       "        vertical-align: top;\n",
       "    }\n",
       "\n",
       "    .dataframe thead th {\n",
       "        text-align: right;\n",
       "    }\n",
       "</style>\n",
       "<table border=\"1\" class=\"dataframe\">\n",
       "  <thead>\n",
       "    <tr style=\"text-align: right;\">\n",
       "      <th></th>\n",
       "      <th>x1</th>\n",
       "      <th>x2</th>\n",
       "      <th>x3</th>\n",
       "      <th>x4</th>\n",
       "      <th>y</th>\n",
       "    </tr>\n",
       "  </thead>\n",
       "  <tbody>\n",
       "    <tr>\n",
       "      <th>0</th>\n",
       "      <td>1</td>\n",
       "      <td>1</td>\n",
       "      <td>4</td>\n",
       "      <td>8</td>\n",
       "      <td>90</td>\n",
       "    </tr>\n",
       "    <tr>\n",
       "      <th>1</th>\n",
       "      <td>1</td>\n",
       "      <td>2</td>\n",
       "      <td>3</td>\n",
       "      <td>4</td>\n",
       "      <td>57</td>\n",
       "    </tr>\n",
       "    <tr>\n",
       "      <th>2</th>\n",
       "      <td>2</td>\n",
       "      <td>2</td>\n",
       "      <td>9</td>\n",
       "      <td>9</td>\n",
       "      <td>135</td>\n",
       "    </tr>\n",
       "    <tr>\n",
       "      <th>3</th>\n",
       "      <td>2</td>\n",
       "      <td>3</td>\n",
       "      <td>4</td>\n",
       "      <td>4</td>\n",
       "      <td>67</td>\n",
       "    </tr>\n",
       "    <tr>\n",
       "      <th>4</th>\n",
       "      <td>2</td>\n",
       "      <td>0</td>\n",
       "      <td>3</td>\n",
       "      <td>4</td>\n",
       "      <td>54</td>\n",
       "    </tr>\n",
       "    <tr>\n",
       "      <th>5</th>\n",
       "      <td>2</td>\n",
       "      <td>6</td>\n",
       "      <td>7</td>\n",
       "      <td>4</td>\n",
       "      <td>94</td>\n",
       "    </tr>\n",
       "    <tr>\n",
       "      <th>6</th>\n",
       "      <td>1</td>\n",
       "      <td>3</td>\n",
       "      <td>6</td>\n",
       "      <td>4</td>\n",
       "      <td>80</td>\n",
       "    </tr>\n",
       "  </tbody>\n",
       "</table>\n",
       "</div>"
      ],
      "text/plain": [
       "   x1  x2  x3  x4    y\n",
       "0   1   1   4   8   90\n",
       "1   1   2   3   4   57\n",
       "2   2   2   9   9  135\n",
       "3   2   3   4   4   67\n",
       "4   2   0   3   4   54\n",
       "5   2   6   7   4   94\n",
       "6   1   3   6   4   80"
      ]
     },
     "execution_count": 2,
     "metadata": {},
     "output_type": "execute_result"
    }
   ],
   "source": [
    "import numpy as np\n",
    "import pandas as pd\n",
    "\n",
    "X = np.array([[1, 1, 4, 8], [1, 2, 3, 4], [2, 2, 9, 9], [2, 3, 4, 4], [2, 0, 3, 4], [2, 6, 7, 4], [1, 3, 6, 4]])\n",
    "# y = 1 * x_1 + 2 * x_2 + 3\n",
    "y = np.dot(X, np.array([1, 2, 7, 7])) + 3\n",
    "X_y_df = pd.DataFrame(np.array(np.transpose([X[:,0], X[:,1], X[:,2], X[:,3], y])), columns=[\"x1\", \"x2\", \"x3\", \"x4\", \"y\"])\n",
    "X_y_df"
   ]
  },
  {
   "cell_type": "markdown",
   "id": "b029a19d-3925-4eac-b4e6-649d45c55668",
   "metadata": {},
   "source": [
    "## How to create a correlation matrix"
   ]
  },
  {
   "cell_type": "code",
   "execution_count": 3,
   "id": "25d4b616-75b2-43d8-829a-a3f4711e2e60",
   "metadata": {},
   "outputs": [
    {
     "data": {
      "image/png": "[encoded data removed]",
      "text/plain": [
       "<Figure size 864x720 with 2 Axes>"
      ]
     },
     "metadata": {
      "needs_background": "light"
     },
     "output_type": "display_data"
    }
   ],
   "source": [
    "import seaborn as sns\n",
    "import matplotlib.pyplot as plt \n",
    "\n",
    "plt.figure(figsize=(12,10))\n",
    "cor = X_y_df.corr()\n",
    "sns.heatmap(cor, annot=True, cmap=plt.cm.Reds)\n",
    "plt.show()"
   ]
  },
  {
   "cell_type": "markdown",
   "id": "266edef6-e134-4145-9ab2-7cc21419c886",
   "metadata": {},
   "source": [
    "## How to select the best k features using pearsons correlation\n",
    "Use sklearns r_regression, which looks at the correlation between the predictors and the target and selects the most positive and negative correlations\n",
    "\n",
    "You must fit the selector on the training set and transform the training and testing sets with your selector"
   ]
  },
  {
   "cell_type": "code",
   "execution_count": 4,
   "id": "0afe286d-62f1-4f61-b0f1-bd6a75a5f369",
   "metadata": {},
   "outputs": [],
   "source": [
    "from sklearn.feature_selection import SelectKBest\n",
    "from sklearn.feature_selection import r_regression\n",
    "k_in = 2\n",
    "\n",
    "training_set_x = X[:5]\n",
    "training_set_y = y[:5]\n",
    "\n",
    "testing_set_x = X[5:]\n",
    "testing_set_y = y[5:]\n",
    "\n",
    "selector = SelectKBest(r_regression, k=k_in).fit(training_set_x, training_set_y)\n",
    "training_set_new = selector.transform(training_set_x)\n",
    "testing_set_new = selector.transform(testing_set_x)"
   ]
  },
  {
   "cell_type": "markdown",
   "id": "cc74b77f-82ec-442d-921b-478db7c20072",
   "metadata": {},
   "source": [
    "This is the new training set after selection (as you can see it has removed a feature)"
   ]
  },
  {
   "cell_type": "code",
   "execution_count": 5,
   "id": "22101467-d172-478c-b358-d4838297eb6a",
   "metadata": {},
   "outputs": [
    {
     "data": {
      "text/html": [
       "<div>\n",
       "<style scoped>\n",
       "    .dataframe tbody tr th:only-of-type {\n",
       "        vertical-align: middle;\n",
       "    }\n",
       "\n",
       "    .dataframe tbody tr th {\n",
       "        vertical-align: top;\n",
       "    }\n",
       "\n",
       "    .dataframe thead th {\n",
       "        text-align: right;\n",
       "    }\n",
       "</style>\n",
       "<table border=\"1\" class=\"dataframe\">\n",
       "  <thead>\n",
       "    <tr style=\"text-align: right;\">\n",
       "      <th></th>\n",
       "      <th>0</th>\n",
       "      <th>1</th>\n",
       "    </tr>\n",
       "  </thead>\n",
       "  <tbody>\n",
       "    <tr>\n",
       "      <th>0</th>\n",
       "      <td>4</td>\n",
       "      <td>8</td>\n",
       "    </tr>\n",
       "    <tr>\n",
       "      <th>1</th>\n",
       "      <td>3</td>\n",
       "      <td>4</td>\n",
       "    </tr>\n",
       "    <tr>\n",
       "      <th>2</th>\n",
       "      <td>9</td>\n",
       "      <td>9</td>\n",
       "    </tr>\n",
       "    <tr>\n",
       "      <th>3</th>\n",
       "      <td>4</td>\n",
       "      <td>4</td>\n",
       "    </tr>\n",
       "    <tr>\n",
       "      <th>4</th>\n",
       "      <td>3</td>\n",
       "      <td>4</td>\n",
       "    </tr>\n",
       "  </tbody>\n",
       "</table>\n",
       "</div>"
      ],
      "text/plain": [
       "   0  1\n",
       "0  4  8\n",
       "1  3  4\n",
       "2  9  9\n",
       "3  4  4\n",
       "4  3  4"
      ]
     },
     "execution_count": 5,
     "metadata": {},
     "output_type": "execute_result"
    }
   ],
   "source": [
    "pd.DataFrame(training_set_new)"
   ]
  },
  {
   "cell_type": "markdown",
   "id": "a58b938b-9d37-4e9e-b21c-60c4990d8093",
   "metadata": {},
   "source": [
    "This is the new testing set after selection (as you can see it has removed a feature)"
   ]
  },
  {
   "cell_type": "code",
   "execution_count": 6,
   "id": "d1b29585-db24-4732-9716-9607ab941f52",
   "metadata": {},
   "outputs": [
    {
     "data": {
      "text/html": [
       "<div>\n",
       "<style scoped>\n",
       "    .dataframe tbody tr th:only-of-type {\n",
       "        vertical-align: middle;\n",
       "    }\n",
       "\n",
       "    .dataframe tbody tr th {\n",
       "        vertical-align: top;\n",
       "    }\n",
       "\n",
       "    .dataframe thead th {\n",
       "        text-align: right;\n",
       "    }\n",
       "</style>\n",
       "<table border=\"1\" class=\"dataframe\">\n",
       "  <thead>\n",
       "    <tr style=\"text-align: right;\">\n",
       "      <th></th>\n",
       "      <th>0</th>\n",
       "      <th>1</th>\n",
       "    </tr>\n",
       "  </thead>\n",
       "  <tbody>\n",
       "    <tr>\n",
       "      <th>0</th>\n",
       "      <td>7</td>\n",
       "      <td>4</td>\n",
       "    </tr>\n",
       "    <tr>\n",
       "      <th>1</th>\n",
       "      <td>6</td>\n",
       "      <td>4</td>\n",
       "    </tr>\n",
       "  </tbody>\n",
       "</table>\n",
       "</div>"
      ],
      "text/plain": [
       "   0  1\n",
       "0  7  4\n",
       "1  6  4"
      ]
     },
     "execution_count": 6,
     "metadata": {},
     "output_type": "execute_result"
    }
   ],
   "source": [
    "pd.DataFrame(testing_set_new)"
   ]
  },
  {
   "cell_type": "markdown",
   "id": "3ba7eda2-cc47-43ff-98d5-5c350f4b3b0a",
   "metadata": {},
   "source": [
    "### How to show which features were selected"
   ]
  },
  {
   "cell_type": "code",
   "execution_count": 7,
   "id": "aad43e75-4853-4b9b-a40a-a14302d77929",
   "metadata": {},
   "outputs": [
    {
     "name": "stdout",
     "output_type": "stream",
     "text": [
      "Index(['x4', 'x3'], dtype='object')\n"
     ]
    }
   ],
   "source": [
    "import numpy as np\n",
    "\n",
    "selector.scores_\n",
    "top_n = np.argsort(selector.scores_)[-k_in:]\n",
    "print(X_y_df.iloc[:, top_n].columns)"
   ]
  },
  {
   "cell_type": "markdown",
   "id": "3c93e670-c734-49a4-bf63-4457cc42f60b",
   "metadata": {},
   "source": [
    "## How to do forward selection with tol of 0.01 for mean squared error\n",
    "\n",
    "Note: SequentialFeatureSelector also allows setting the number of features you want, however for this lab we will be using the \"auto\" method with the criteria of \"To add in a feature, it must reduce our mse by 0.01\"\n",
    "\n",
    "You must fit the selector on the training set and transform the training and testing sets with your selector"
   ]
  },
  {
   "cell_type": "code",
   "execution_count": 8,
   "id": "66902e11-e3d6-4e43-9d6c-78ec143cb515",
   "metadata": {},
   "outputs": [],
   "source": [
    "from sklearn.feature_selection import SequentialFeatureSelector\n",
    "from sklearn.linear_model import LinearRegression\n",
    "\n",
    "reg = LinearRegression()\n",
    "sfs = SequentialFeatureSelector(reg, n_features_to_select=\"auto\", scoring='neg_mean_squared_error', tol=0.01, direction='forward')\n",
    "sfs.fit(training_set_x, training_set_y)\n",
    "training_set_x_new = sfs.transform(training_set_x)\n",
    "testing_set_x_new = sfs.transform(testing_set_x)"
   ]
  },
  {
   "cell_type": "markdown",
   "id": "102b6b12-c907-4710-84ae-2d317039a6d6",
   "metadata": {},
   "source": [
    "**n_features_to_select**: This is the number of features you want to select<br>\n",
    "**scoring**: refers to the metric we want to use for our tolerance criteria. Here we are using mean squared error<br>\n",
    "**direction**: this denotes whether we are doing forward or backward selection<br>"
   ]
  },
  {
   "cell_type": "markdown",
   "id": "45b3dd60-db0a-4a58-95c9-3e44e4898a9f",
   "metadata": {},
   "source": [
    "### How to show which features were selected"
   ]
  },
  {
   "cell_type": "code",
   "execution_count": 9,
   "id": "f38832c4-b992-4c53-b005-a2d8bc5406fb",
   "metadata": {},
   "outputs": [
    {
     "name": "stdout",
     "output_type": "stream",
     "text": [
      "Index(['x2', 'x3', 'x4'], dtype='object')\n"
     ]
    }
   ],
   "source": [
    "fs_indices = sfs.get_support(True)\n",
    "print(X_y_df.iloc[:, fs_indices].columns)"
   ]
  },
  {
   "cell_type": "markdown",
   "id": "466edab7-8fb0-41ba-a68d-050671a19116",
   "metadata": {},
   "source": [
    "## How to do backward selection with tol of 0.01 for mean squared error\n",
    "\n",
    "Same thing as forward just set direction to backward"
   ]
  },
  {
   "cell_type": "code",
   "execution_count": 10,
   "id": "17e3e872-6ca2-4fce-9866-28915fba3b35",
   "metadata": {},
   "outputs": [],
   "source": [
    "from sklearn.feature_selection import SequentialFeatureSelector\n",
    "from sklearn.linear_model import LinearRegression\n",
    "\n",
    "reg = LinearRegression()\n",
    "sfs = SequentialFeatureSelector(reg, n_features_to_select=\"auto\", scoring='neg_mean_squared_error', tol=0.01, direction='backward')\n",
    "sfs.fit(training_set_x, training_set_y)\n",
    "training_set_x_new = sfs.transform(training_set_x)\n",
    "testing_set_x_new = sfs.transform(testing_set_x)"
   ]
  },
  {
   "cell_type": "markdown",
   "id": "469431bf-7fb0-4ef3-9b8b-8b79d98c2135",
   "metadata": {},
   "source": [
    "**n_features_to_select**: This is the number of features you want to select\n",
    "**scoring**: refers to the metric we want to use for our tolerance criteria. Here we are using mean squared error<br>\n",
    "**direction**: this denotes whether we are doing forward or backward selection<br>"
   ]
  },
  {
   "cell_type": "markdown",
   "id": "38ef857a-fe15-48f2-b161-6a02fe76cd79",
   "metadata": {},
   "source": [
    "### How to show which features were selected"
   ]
  },
  {
   "cell_type": "code",
   "execution_count": 11,
   "id": "c9a6d0d1-dbd2-43bb-89a5-5cfa6e3ef84f",
   "metadata": {},
   "outputs": [
    {
     "name": "stdout",
     "output_type": "stream",
     "text": [
      "Index(['x2', 'x3', 'x4'], dtype='object')\n"
     ]
    }
   ],
   "source": [
    "fs_indices = sfs.get_support(True)\n",
    "print(X_y_df.iloc[:, fs_indices].columns)"
   ]
  },
  {
   "cell_type": "markdown",
   "id": "7cc9c717-2b20-460f-9d50-7e5cf9efbd4a",
   "metadata": {},
   "source": [
    "## How to do recursive feature elimination\n",
    "\n",
    "It follows almost the same convention as the others. "
   ]
  },
  {
   "cell_type": "code",
   "execution_count": 12,
   "id": "3524fa20-c3d7-4607-acb2-2783a84aea90",
   "metadata": {},
   "outputs": [],
   "source": [
    "from sklearn.feature_selection import RFE\n",
    "\n",
    "estimator = LinearRegression()\n",
    "selector = RFE(estimator, n_features_to_select=3, step=1)\n",
    "selector.fit(training_set_x, training_set_y)\n",
    "\n",
    "training_set_x_new = selector.transform(training_set_x)\n",
    "testing_set_x_new = selector.transform(testing_set_x)"
   ]
  },
  {
   "cell_type": "markdown",
   "id": "8ce66b3e-b1a6-4aeb-a9a3-868e183e553f",
   "metadata": {},
   "source": [
    "**n_features_to_select**: This is the number of features you want to select<br>\n",
    "**step**:  step corresponds to the (integer) number of features to remove at each iteration. (Just leave at 1 for this Lab)"
   ]
  },
  {
   "cell_type": "markdown",
   "id": "2f671af4-fc8d-4b7b-90a3-80e533c0866e",
   "metadata": {},
   "source": [
    "### How to show which features were selected"
   ]
  },
  {
   "cell_type": "code",
   "execution_count": 13,
   "id": "a273aa06-43e0-460e-bcc8-4c1ac98a2b41",
   "metadata": {},
   "outputs": [
    {
     "name": "stdout",
     "output_type": "stream",
     "text": [
      "Index(['x2', 'x3', 'x4'], dtype='object')\n"
     ]
    }
   ],
   "source": [
    "fs_indices = selector.get_support(True)\n",
    "print(X_y_df.iloc[:, fs_indices].columns)"
   ]
  },
  {
   "cell_type": "markdown",
   "id": "3a64dd6c-a903-4b49-b224-0f0a38b0d11a",
   "metadata": {},
   "source": [
    "### How to show ranking of features"
   ]
  },
  {
   "cell_type": "code",
   "execution_count": 14,
   "id": "dfddbfb0-76ee-4cf1-b8c1-12450e2d531d",
   "metadata": {},
   "outputs": [
    {
     "data": {
      "text/html": [
       "<div>\n",
       "<style scoped>\n",
       "    .dataframe tbody tr th:only-of-type {\n",
       "        vertical-align: middle;\n",
       "    }\n",
       "\n",
       "    .dataframe tbody tr th {\n",
       "        vertical-align: top;\n",
       "    }\n",
       "\n",
       "    .dataframe thead th {\n",
       "        text-align: right;\n",
       "    }\n",
       "</style>\n",
       "<table border=\"1\" class=\"dataframe\">\n",
       "  <thead>\n",
       "    <tr style=\"text-align: right;\">\n",
       "      <th></th>\n",
       "      <th>features</th>\n",
       "      <th>rank</th>\n",
       "    </tr>\n",
       "  </thead>\n",
       "  <tbody>\n",
       "    <tr>\n",
       "      <th>0</th>\n",
       "      <td>x1</td>\n",
       "      <td>2</td>\n",
       "    </tr>\n",
       "    <tr>\n",
       "      <th>1</th>\n",
       "      <td>x2</td>\n",
       "      <td>1</td>\n",
       "    </tr>\n",
       "    <tr>\n",
       "      <th>2</th>\n",
       "      <td>x3</td>\n",
       "      <td>1</td>\n",
       "    </tr>\n",
       "    <tr>\n",
       "      <th>3</th>\n",
       "      <td>x4</td>\n",
       "      <td>1</td>\n",
       "    </tr>\n",
       "  </tbody>\n",
       "</table>\n",
       "</div>"
      ],
      "text/plain": [
       "  features  rank\n",
       "0       x1     2\n",
       "1       x2     1\n",
       "2       x3     1\n",
       "3       x4     1"
      ]
     },
     "execution_count": 14,
     "metadata": {},
     "output_type": "execute_result"
    }
   ],
   "source": [
    "import pandas as pd\n",
    "\n",
    "ranking_indices = selector.ranking_\n",
    "pd.DataFrame(list(zip(X_y_df.columns,ranking_indices)), columns=[\"features\",\"rank\"])"
   ]
  },
  {
   "cell_type": "markdown",
   "id": "d045e644-4d09-4882-bc79-aaea5a72db98",
   "metadata": {},
   "source": [
    "As you might have noticed, all the selected features have ranking of 1"
   ]
  },
  {
   "cell_type": "markdown",
   "id": "49c0d7d9-8866-477b-baa6-aaac533ed952",
   "metadata": {},
   "source": [
    "## How to do cross validation with ShuffleSplit\n",
    "\n",
    "We split the data into 4 training sets and 4 testing sets.<br>\n",
    "The indices for the samples used for each dataset are printed below.<br>\n",
    "In your objectives, you are asked to get the mse and rsquared for every testing set.<br>"
   ]
  },
  {
   "cell_type": "code",
   "execution_count": 15,
   "id": "fb019f17-367e-4a02-85a6-f1124e9488b4",
   "metadata": {},
   "outputs": [
    {
     "name": "stdout",
     "output_type": "stream",
     "text": [
      "TRAIN: [1 3 0 5 4] TEST: [6 2]\n",
      "TRAIN: [6 3 4 2 5] TEST: [1 0]\n",
      "TRAIN: [5 1 2 4 0] TEST: [6 3]\n",
      "TRAIN: [3 4 1 0 6] TEST: [5 2]\n"
     ]
    }
   ],
   "source": [
    "from pprint import pprint\n",
    "from sklearn.model_selection import ShuffleSplit\n",
    "rs = ShuffleSplit(n_splits=4, test_size=.25, random_state=0)\n",
    "\n",
    "for train_index, test_index in rs.split(X):\n",
    "    print(\"TRAIN:\", train_index, \"TEST:\", test_index)\n",
    "    X_train, X_test = X[train_index], X[test_index]\n",
    "    y_train, y_test = y[train_index], y[test_index]    "
   ]
  },
  {
   "cell_type": "markdown",
   "id": "9fcc3ca1-141e-4e09-b93e-0b551a22df6d",
   "metadata": {},
   "source": [
    "***n_splits***: number of train and test splits for the dataset <br>\n",
    "***test_size***: what percentage of samples should the testing set get from the dataset <br>\n",
    "***random_state***: seed the random generator to make your results reproducible <br>"
   ]
  },
  {
   "cell_type": "markdown",
   "id": "835394ee-f178-4521-88c4-12bb8c661b98",
   "metadata": {},
   "source": [
    "## How to use ***RidgeCV*** to find the best regularization ***parameter/alpha***\n",
    "\n",
    "RidgeCV performs cross validaion using regularized linear regression to find the best alpha for our dataset"
   ]
  },
  {
   "cell_type": "code",
   "execution_count": 16,
   "id": "20021ae0-2bff-4c55-b36b-5ab3bf3ffc49",
   "metadata": {},
   "outputs": [
    {
     "name": "stdout",
     "output_type": "stream",
     "text": [
      "alpha: 0.001\n"
     ]
    }
   ],
   "source": [
    "from sklearn.linear_model import RidgeCV\n",
    "reg_cv = RidgeCV(alphas=[1e-3, 1e-2, 1e-1, 1]).fit(training_set_x, training_set_y)\n",
    "alpha = reg_cv.alpha_\n",
    "print(f\"alpha: {alpha}\")"
   ]
  },
  {
   "cell_type": "markdown",
   "id": "9e86bbe7-c469-4882-84bc-9c3c90488e22",
   "metadata": {},
   "source": [
    "As you can see above, we passed a list of alphas to see which alpha the algorithm believes is best after cross validating on our dataset"
   ]
  },
  {
   "cell_type": "code",
   "execution_count": 17,
   "id": "b0917b1c-5c07-4fee-b78b-73a031184141",
   "metadata": {},
   "outputs": [
    {
     "data": {
      "text/plain": [
       "array([93.99890687, 80.00316107])"
      ]
     },
     "execution_count": 17,
     "metadata": {},
     "output_type": "execute_result"
    }
   ],
   "source": [
    "reg_cv.predict(testing_set_x)"
   ]
  },
  {
   "cell_type": "markdown",
   "id": "817f76d2-57cf-4d68-84d2-3b9df1c2aab9",
   "metadata": {},
   "source": [
    "We can predict using RidgeCV and it will use that alpha for a prediction using Regularized Linear Regression"
   ]
  },
  {
   "cell_type": "markdown",
   "id": "81a4396d-db1e-4534-bf16-9ff828ad8094",
   "metadata": {},
   "source": [
    "## How to use Regularized Linear Regression/Ridge Regression\n",
    "\n",
    "This is normal RidgeRegression where no cross validfation is done, we just pass it a single alpha.<br>\n",
    "Lets use the alpha we got from RidgeCV. The results should be the same"
   ]
  },
  {
   "cell_type": "code",
   "execution_count": 18,
   "id": "65ad0baf-e7b3-40a3-b162-b85204ad31ce",
   "metadata": {},
   "outputs": [
    {
     "data": {
      "text/plain": [
       "array([93.99890687, 80.00316107])"
      ]
     },
     "execution_count": 18,
     "metadata": {},
     "output_type": "execute_result"
    }
   ],
   "source": [
    "from sklearn.linear_model import Ridge\n",
    "reg = Ridge(alpha=alpha).fit(training_set_x, training_set_y)\n",
    "reg.predict(testing_set_x)"
   ]
  },
  {
   "cell_type": "markdown",
   "id": "5b9b3687-ae5f-434b-9bf6-1e7edad57da6",
   "metadata": {},
   "source": [
    "## How to plot a Learning curve\n",
    "\n",
    "Below I am showing you my implementation for plotting a learning curve.\n",
    " - I am using a dictionary to store my training samples and mse for every iteration\n",
    " - I am slicing up to the iterating value because I want to grab 1 sample on the first run, 2 on the second run... m on the m'th run\n",
    " - I use my Ridge regressor to predict at each step. Note: I have to reshape the training_set and testing_set when i==1 because the Ridge regressor      will crash otherwise\n",
    " - I get my mse and store it in the appropriate key i.e: 1 - for 1 sample, 2 - for 2 samples.... m - for m samples\n",
    " - I then plot both my training and testing mse against the number of samples to get my learning curve"
   ]
  },
  {
   "cell_type": "code",
   "execution_count": 19,
   "id": "2fd80089-1613-4c1e-9604-06f1dd9ba8c2",
   "metadata": {},
   "outputs": [
    {
     "data": {
      "image/png": "[encoded data removed]",
      "text/plain": [
       "<Figure size 432x288 with 1 Axes>"
      ]
     },
     "metadata": {
      "needs_background": "light"
     },
     "output_type": "display_data"
    }
   ],
   "source": [
    "holder_m_mse_train = {}\n",
    "holder_m_mse_test = {}\n",
    "from sklearn.linear_model import RidgeCV\n",
    "from sklearn.metrics import mean_squared_error\n",
    "for i in range(1, len(training_set_x)+1):\n",
    "    if i == 1:\n",
    "        reg_cv = Ridge(alpha=alpha).fit(training_set_x[:i,:].reshape(1, -1), training_set_y[:i])\n",
    "        train_mse = mean_squared_error(training_set_y[:i].reshape(1, -1), reg_cv.predict(training_set_x[:i,:].reshape(1, -1)))\n",
    "        test_mse = mean_squared_error(testing_set_y, reg_cv.predict(testing_set_x))\n",
    "\n",
    "    else:\n",
    "        reg_cv = Ridge(alpha=alpha).fit(training_set_x[:i,:], training_set_y[:i])\n",
    "        train_mse = mean_squared_error(training_set_y[:i], reg_cv.predict(training_set_x[:i,:]))\n",
    "        test_mse = mean_squared_error(testing_set_y, reg_cv.predict(testing_set_x))\n",
    "        \n",
    "    holder_m_mse_train[i] = train_mse\n",
    "    holder_m_mse_test[i] = test_mse\n",
    "\n",
    "lists_train = sorted(holder_m_mse_train.items()) # sorted by key, return a list of tuples\n",
    "lists_test = sorted(holder_m_mse_test.items())\n",
    "\n",
    "x_train, y_train = zip(*lists_train) # unpack a list of pairs into two tuples\n",
    "x_test, y_test = zip(*lists_test)\n",
    "\n",
    "plt.plot(x_train, y_train, color=\"blue\")\n",
    "plt.plot(x_test, y_test, color=\"red\")\n",
    "plt.show()"
   ]
  },
  {
   "cell_type": "markdown",
   "id": "0ca7d812-318b-429f-90b0-7d17b5e99b7b",
   "metadata": {},
   "source": [
    "## How to do LassoCV Regression\n",
    "\n",
    "LassoCV Regression works very similarly to RidgeCV Regression.\n",
    " - You give it a list of alphas and it picks the one that maximizes its cross validation criteria on the dataset given\n",
    " - Of course unlike Ridghe regression it forces features it has deemed unimportant to 0"
   ]
  },
  {
   "cell_type": "code",
   "execution_count": 20,
   "id": "48d948ea-e394-4fcb-91b1-ab06b6d26479",
   "metadata": {},
   "outputs": [
    {
     "data": {
      "text/plain": [
       "array([93.70929912, 81.26263722])"
      ]
     },
     "execution_count": 20,
     "metadata": {},
     "output_type": "execute_result"
    }
   ],
   "source": [
    "from sklearn.linear_model import LassoCV\n",
    "lasso_cv = LassoCV(alphas=[1e-3, 1e-2, 1e-1, 1]).fit(training_set_x, training_set_y)\n",
    "lasso_cv.predict(testing_set_x)"
   ]
  },
  {
   "cell_type": "markdown",
   "id": "efdc8bed-6d01-41e5-9a6e-1ee4d8ed9f75",
   "metadata": {},
   "source": [
    "You can get the selected aplha the same way as with Ridge Regression"
   ]
  },
  {
   "cell_type": "code",
   "execution_count": 21,
   "id": "248271aa-e757-4bf6-907c-740893c3d58d",
   "metadata": {},
   "outputs": [
    {
     "data": {
      "text/plain": [
       "0.1"
      ]
     },
     "execution_count": 21,
     "metadata": {},
     "output_type": "execute_result"
    }
   ],
   "source": [
    "alpha = lasso_cv.alpha_\n",
    "alpha"
   ]
  },
  {
   "cell_type": "markdown",
   "id": "beac90d1-1865-471e-b04c-a25c1f958eca",
   "metadata": {},
   "source": [
    "With LassoCV or regular Lasso Regression it is possible to get the features that the algorithm has not set to 0.(Those are the selected features)<br>\n",
    "\n",
    "### How to get features that Lasso Selected \n",
    "This can be done by getting the values that are not 0 from the coefficients/weights that Lasso provides"
   ]
  },
  {
   "cell_type": "code",
   "execution_count": 22,
   "id": "2a19cd69-0960-425e-8367-6dfc45a1e532",
   "metadata": {},
   "outputs": [
    {
     "name": "stdout",
     "output_type": "stream",
     "text": [
      "Index(['x2', 'x3', 'x4'], dtype='object')\n"
     ]
    },
    {
     "data": {
      "text/plain": [
       "array([1, 2, 3], dtype=int64)"
      ]
     },
     "execution_count": 22,
     "metadata": {},
     "output_type": "execute_result"
    }
   ],
   "source": [
    "lasso_indices = np.nonzero(lasso_cv.coef_)\n",
    "print(X_y_df.iloc[:, lasso_indices[0]].columns)\n",
    "lasso_indices[0]"
   ]
  },
  {
   "cell_type": "markdown",
   "id": "c3ca6e9b-dece-46d5-8ce8-750770ff8c7a",
   "metadata": {},
   "source": [
    "## How to do regular Lasso Regression\n",
    "Below I am showing you how to fit and predict with regular Lasso Regression. We will just use the selected alpha we got from LassoCV"
   ]
  },
  {
   "cell_type": "code",
   "execution_count": 23,
   "id": "bd4990c2-dd97-4145-892e-a3706bd325bd",
   "metadata": {},
   "outputs": [
    {
     "data": {
      "text/plain": [
       "array([93.70929912, 81.26263722])"
      ]
     },
     "execution_count": 23,
     "metadata": {},
     "output_type": "execute_result"
    }
   ],
   "source": [
    "from sklearn.linear_model import Lasso\n",
    "lasso= Lasso(alpha=alpha).fit(training_set_x, training_set_y)\n",
    "lasso.predict(testing_set_x)"
   ]
  },
  {
   "cell_type": "markdown",
   "id": "97d3e896-5815-4a6d-b467-59f4f7d5ed15",
   "metadata": {},
   "source": [
    "# Classification\n",
    "\n",
    "You will be using the ***Iris dataset*** from sklearn for all your classification tasks\n",
    "\n",
    "Get the dataset with the following command"
   ]
  },
  {
   "cell_type": "code",
   "execution_count": 24,
   "id": "79d627d9-de92-4303-a705-b890216607ba",
   "metadata": {},
   "outputs": [
    {
     "data": {
      "text/html": [
       "<div>\n",
       "<style scoped>\n",
       "    .dataframe tbody tr th:only-of-type {\n",
       "        vertical-align: middle;\n",
       "    }\n",
       "\n",
       "    .dataframe tbody tr th {\n",
       "        vertical-align: top;\n",
       "    }\n",
       "\n",
       "    .dataframe thead th {\n",
       "        text-align: right;\n",
       "    }\n",
       "</style>\n",
       "<table border=\"1\" class=\"dataframe\">\n",
       "  <thead>\n",
       "    <tr style=\"text-align: right;\">\n",
       "      <th></th>\n",
       "      <th>sepal length (cm)</th>\n",
       "      <th>sepal width (cm)</th>\n",
       "      <th>petal length (cm)</th>\n",
       "      <th>petal width (cm)</th>\n",
       "      <th>target</th>\n",
       "    </tr>\n",
       "  </thead>\n",
       "  <tbody>\n",
       "    <tr>\n",
       "      <th>0</th>\n",
       "      <td>5.1</td>\n",
       "      <td>3.5</td>\n",
       "      <td>1.4</td>\n",
       "      <td>0.2</td>\n",
       "      <td>0</td>\n",
       "    </tr>\n",
       "    <tr>\n",
       "      <th>1</th>\n",
       "      <td>4.9</td>\n",
       "      <td>3.0</td>\n",
       "      <td>1.4</td>\n",
       "      <td>0.2</td>\n",
       "      <td>0</td>\n",
       "    </tr>\n",
       "    <tr>\n",
       "      <th>2</th>\n",
       "      <td>4.7</td>\n",
       "      <td>3.2</td>\n",
       "      <td>1.3</td>\n",
       "      <td>0.2</td>\n",
       "      <td>0</td>\n",
       "    </tr>\n",
       "    <tr>\n",
       "      <th>3</th>\n",
       "      <td>4.6</td>\n",
       "      <td>3.1</td>\n",
       "      <td>1.5</td>\n",
       "      <td>0.2</td>\n",
       "      <td>0</td>\n",
       "    </tr>\n",
       "    <tr>\n",
       "      <th>4</th>\n",
       "      <td>5.0</td>\n",
       "      <td>3.6</td>\n",
       "      <td>1.4</td>\n",
       "      <td>0.2</td>\n",
       "      <td>0</td>\n",
       "    </tr>\n",
       "    <tr>\n",
       "      <th>...</th>\n",
       "      <td>...</td>\n",
       "      <td>...</td>\n",
       "      <td>...</td>\n",
       "      <td>...</td>\n",
       "      <td>...</td>\n",
       "    </tr>\n",
       "    <tr>\n",
       "      <th>145</th>\n",
       "      <td>6.7</td>\n",
       "      <td>3.0</td>\n",
       "      <td>5.2</td>\n",
       "      <td>2.3</td>\n",
       "      <td>2</td>\n",
       "    </tr>\n",
       "    <tr>\n",
       "      <th>146</th>\n",
       "      <td>6.3</td>\n",
       "      <td>2.5</td>\n",
       "      <td>5.0</td>\n",
       "      <td>1.9</td>\n",
       "      <td>2</td>\n",
       "    </tr>\n",
       "    <tr>\n",
       "      <th>147</th>\n",
       "      <td>6.5</td>\n",
       "      <td>3.0</td>\n",
       "      <td>5.2</td>\n",
       "      <td>2.0</td>\n",
       "      <td>2</td>\n",
       "    </tr>\n",
       "    <tr>\n",
       "      <th>148</th>\n",
       "      <td>6.2</td>\n",
       "      <td>3.4</td>\n",
       "      <td>5.4</td>\n",
       "      <td>2.3</td>\n",
       "      <td>2</td>\n",
       "    </tr>\n",
       "    <tr>\n",
       "      <th>149</th>\n",
       "      <td>5.9</td>\n",
       "      <td>3.0</td>\n",
       "      <td>5.1</td>\n",
       "      <td>1.8</td>\n",
       "      <td>2</td>\n",
       "    </tr>\n",
       "  </tbody>\n",
       "</table>\n",
       "<p>150 rows × 5 columns</p>\n",
       "</div>"
      ],
      "text/plain": [
       "     sepal length (cm)  sepal width (cm)  petal length (cm)  petal width (cm)  \\\n",
       "0                  5.1               3.5                1.4               0.2   \n",
       "1                  4.9               3.0                1.4               0.2   \n",
       "2                  4.7               3.2                1.3               0.2   \n",
       "3                  4.6               3.1                1.5               0.2   \n",
       "4                  5.0               3.6                1.4               0.2   \n",
       "..                 ...               ...                ...               ...   \n",
       "145                6.7               3.0                5.2               2.3   \n",
       "146                6.3               2.5                5.0               1.9   \n",
       "147                6.5               3.0                5.2               2.0   \n",
       "148                6.2               3.4                5.4               2.3   \n",
       "149                5.9               3.0                5.1               1.8   \n",
       "\n",
       "     target  \n",
       "0         0  \n",
       "1         0  \n",
       "2         0  \n",
       "3         0  \n",
       "4         0  \n",
       "..      ...  \n",
       "145       2  \n",
       "146       2  \n",
       "147       2  \n",
       "148       2  \n",
       "149       2  \n",
       "\n",
       "[150 rows x 5 columns]"
      ]
     },
     "execution_count": 24,
     "metadata": {},
     "output_type": "execute_result"
    }
   ],
   "source": [
    "from sklearn.datasets import load_iris\n",
    "\n",
    "iris_df =  load_iris(as_frame=True).frame\n",
    "iris_df"
   ]
  },
  {
   "cell_type": "markdown",
   "id": "8e57aeb3-795d-4ffc-95c4-b64cf26fa0dd",
   "metadata": {},
   "source": [
    "Your objectives are available in the README.md file accompanying this notebook:\n",
    "\n",
    "I will be providing a jupyter file with headers for where you can insert your answers for each question\n",
    "\n",
    "Below we will be going over the following to help you with the Lab:\n",
    "\n",
    "- How to use MinMaxScaler for **feature scaling**\n",
    "- How to use ***Chisquare*** for feature selection\n",
    "- Notes about ***forward selection*** and ***backward selection*** for classification\n",
    "- How to do ***cross validation*** with ***StratifiedShuffleSplit***\n",
    "- How to do ***LogisticRegressionCV*** to find the best alpha for regularization on the dataset\n",
    "  - How to grab the apha it selected\n",
    "- How to get ***log_loss***\n",
    "\n",
    "\n",
    "***Note:*** Remember to set 'penalty' to 'none' for the ***Multinomial Logistic Regression*** part of the lab and to 'l2' for the ***Regularized Logistic Regression*** part<br>\n",
    "***Note:*** **Recursive feature elimination** works the same way for classification as regression so I will not be going over it again"
   ]
  },
  {
   "cell_type": "markdown",
   "id": "431da121-47f6-4dc7-bf16-0dcaa41eae63",
   "metadata": {},
   "source": [
    "## Below is our sample data for our demonstration."
   ]
  },
  {
   "cell_type": "code",
   "execution_count": 25,
   "id": "e68ccc01-40ca-48f3-beb8-372a77f89f72",
   "metadata": {},
   "outputs": [
    {
     "data": {
      "text/html": [
       "<div>\n",
       "<style scoped>\n",
       "    .dataframe tbody tr th:only-of-type {\n",
       "        vertical-align: middle;\n",
       "    }\n",
       "\n",
       "    .dataframe tbody tr th {\n",
       "        vertical-align: top;\n",
       "    }\n",
       "\n",
       "    .dataframe thead th {\n",
       "        text-align: right;\n",
       "    }\n",
       "</style>\n",
       "<table border=\"1\" class=\"dataframe\">\n",
       "  <thead>\n",
       "    <tr style=\"text-align: right;\">\n",
       "      <th></th>\n",
       "      <th>x1</th>\n",
       "      <th>x2</th>\n",
       "      <th>x3</th>\n",
       "      <th>x4</th>\n",
       "      <th>x5</th>\n",
       "      <th>y</th>\n",
       "    </tr>\n",
       "  </thead>\n",
       "  <tbody>\n",
       "    <tr>\n",
       "      <th>0</th>\n",
       "      <td>-1</td>\n",
       "      <td>-1</td>\n",
       "      <td>1</td>\n",
       "      <td>5</td>\n",
       "      <td>7</td>\n",
       "      <td>0</td>\n",
       "    </tr>\n",
       "    <tr>\n",
       "      <th>1</th>\n",
       "      <td>-2</td>\n",
       "      <td>-1</td>\n",
       "      <td>0</td>\n",
       "      <td>9</td>\n",
       "      <td>8</td>\n",
       "      <td>0</td>\n",
       "    </tr>\n",
       "    <tr>\n",
       "      <th>2</th>\n",
       "      <td>1</td>\n",
       "      <td>1</td>\n",
       "      <td>3</td>\n",
       "      <td>6</td>\n",
       "      <td>4</td>\n",
       "      <td>1</td>\n",
       "    </tr>\n",
       "    <tr>\n",
       "      <th>3</th>\n",
       "      <td>2</td>\n",
       "      <td>1</td>\n",
       "      <td>3</td>\n",
       "      <td>4</td>\n",
       "      <td>6</td>\n",
       "      <td>1</td>\n",
       "    </tr>\n",
       "    <tr>\n",
       "      <th>4</th>\n",
       "      <td>-2</td>\n",
       "      <td>-1</td>\n",
       "      <td>0</td>\n",
       "      <td>6</td>\n",
       "      <td>8</td>\n",
       "      <td>0</td>\n",
       "    </tr>\n",
       "    <tr>\n",
       "      <th>5</th>\n",
       "      <td>-2</td>\n",
       "      <td>-9</td>\n",
       "      <td>0</td>\n",
       "      <td>3</td>\n",
       "      <td>7</td>\n",
       "      <td>1</td>\n",
       "    </tr>\n",
       "    <tr>\n",
       "      <th>6</th>\n",
       "      <td>-2</td>\n",
       "      <td>-4</td>\n",
       "      <td>0</td>\n",
       "      <td>7</td>\n",
       "      <td>7</td>\n",
       "      <td>1</td>\n",
       "    </tr>\n",
       "    <tr>\n",
       "      <th>7</th>\n",
       "      <td>-5</td>\n",
       "      <td>-1</td>\n",
       "      <td>0</td>\n",
       "      <td>5</td>\n",
       "      <td>8</td>\n",
       "      <td>1</td>\n",
       "    </tr>\n",
       "    <tr>\n",
       "      <th>8</th>\n",
       "      <td>-2</td>\n",
       "      <td>-1</td>\n",
       "      <td>0</td>\n",
       "      <td>3</td>\n",
       "      <td>7</td>\n",
       "      <td>0</td>\n",
       "    </tr>\n",
       "    <tr>\n",
       "      <th>9</th>\n",
       "      <td>-2</td>\n",
       "      <td>-1</td>\n",
       "      <td>7</td>\n",
       "      <td>3</td>\n",
       "      <td>7</td>\n",
       "      <td>0</td>\n",
       "    </tr>\n",
       "    <tr>\n",
       "      <th>10</th>\n",
       "      <td>-4</td>\n",
       "      <td>-1</td>\n",
       "      <td>5</td>\n",
       "      <td>3</td>\n",
       "      <td>9</td>\n",
       "      <td>0</td>\n",
       "    </tr>\n",
       "    <tr>\n",
       "      <th>11</th>\n",
       "      <td>1</td>\n",
       "      <td>2</td>\n",
       "      <td>6</td>\n",
       "      <td>7</td>\n",
       "      <td>9</td>\n",
       "      <td>1</td>\n",
       "    </tr>\n",
       "  </tbody>\n",
       "</table>\n",
       "</div>"
      ],
      "text/plain": [
       "    x1  x2  x3  x4  x5  y\n",
       "0   -1  -1   1   5   7  0\n",
       "1   -2  -1   0   9   8  0\n",
       "2    1   1   3   6   4  1\n",
       "3    2   1   3   4   6  1\n",
       "4   -2  -1   0   6   8  0\n",
       "5   -2  -9   0   3   7  1\n",
       "6   -2  -4   0   7   7  1\n",
       "7   -5  -1   0   5   8  1\n",
       "8   -2  -1   0   3   7  0\n",
       "9   -2  -1   7   3   7  0\n",
       "10  -4  -1   5   3   9  0\n",
       "11   1   2   6   7   9  1"
      ]
     },
     "execution_count": 25,
     "metadata": {},
     "output_type": "execute_result"
    }
   ],
   "source": [
    "X = np.array([[-1, -1, 1, 5, 7], [-2, -1, 0, 9, 8], [1, 1, 3, 6, 4], [2, 1, 3, 4, 6], [-2, -1, 0, 6, 8], [-2, -9, 0, 3, 7],[-2, -4, 0, 7, 7], [-5, -1, 0, 5, 8], [-2, -1, 0, 3, 7], [-2, -1, 7, 3, 7], [-4, -1, 5, 3, 9], [1, 2, 6, 7, 9]])\n",
    "Y = np.array([0, 0, 1, 1, 0, 1, 1, 1, 0, 0, 0, 1])\n",
    "X_y_df = pd.DataFrame(np.array(np.transpose([X[:,0], X[:,1],X[:,2], X[:,3], X[:,4], Y])), columns=[\"x1\", \"x2\", \"x3\", \"x4\", \"x5\", \"y\"])\n",
    "X_y_df"
   ]
  },
  {
   "cell_type": "markdown",
   "id": "51c34cff-f2fe-4200-9717-2b96075615bd",
   "metadata": {},
   "source": [
    "## How to use MinMaxScaler for feature scaling\n",
    "\n",
    "A few Notes:\n",
    "- Feature scaling will likely not have a huge effect on the Iris datase but we are doing it because, if the dateset was much larger or complex, lbfgs might not converge and you would need to feature scale to help it converge. \n",
    "- We are using MinMaxScaler instead of StandardScaler for feature scaling because it gives the range [0,1] by default. When trying to feature select on chisquare, all your values must be positive so this feature scaling helps us acheive that"
   ]
  },
  {
   "cell_type": "code",
   "execution_count": 26,
   "id": "5b1190a5-af55-4339-af66-4007b9aa36ce",
   "metadata": {},
   "outputs": [],
   "source": [
    "from sklearn.preprocessing import MinMaxScaler\n",
    "\n",
    "scaler = MinMaxScaler()\n",
    "training_set_x = X[:10]\n",
    "training_set_y = Y[:10]\n",
    "\n",
    "testing_set_x = X[10:]\n",
    "testing_set_y = Y[10:]\n",
    "\n",
    "scaler.fit(training_set_x)\n",
    "training_set_x_fs = scaler.transform(training_set_x)\n",
    "testing_set_x_fs = scaler.transform(testing_set_x)\n",
    "\n",
    "# Scaling full dataset of features(training and testing together)\n",
    "all_scaled = scaler.transform(X)"
   ]
  },
  {
   "cell_type": "markdown",
   "id": "05474ec4-27ab-45f3-810b-6511feff1556",
   "metadata": {},
   "source": [
    "## How to use Chisquare for feature selection"
   ]
  },
  {
   "cell_type": "code",
   "execution_count": 27,
   "id": "cce919b7-1eb9-4024-874f-9dc03e5ddd7c",
   "metadata": {},
   "outputs": [],
   "source": [
    "from sklearn.feature_selection import SelectKBest\n",
    "from sklearn.feature_selection import chi2\n",
    "\n",
    "k_in=2\n",
    "selector = SelectKBest(chi2, k=k_in).fit(training_set_x_fs, training_set_y)\n",
    "training_set_x_fs_new = selector.transform(training_set_x_fs)\n",
    "testing_set_x_fs_new = selector.transform(testing_set_x_fs)"
   ]
  },
  {
   "cell_type": "markdown",
   "id": "76ba7364-d876-4b6e-92ae-4e1e58c543d7",
   "metadata": {},
   "source": [
    "***k***: This is the number of features to grab"
   ]
  },
  {
   "cell_type": "markdown",
   "id": "45c6ec0d-ff6f-4af8-bb60-ec432a4351d9",
   "metadata": {},
   "source": [
    "#### How to show which features were selected"
   ]
  },
  {
   "cell_type": "code",
   "execution_count": 28,
   "id": "f42a51df-97a7-4042-b537-cf49cab2cc6a",
   "metadata": {},
   "outputs": [
    {
     "name": "stdout",
     "output_type": "stream",
     "text": [
      "Index(['x2', 'x5'], dtype='object')\n"
     ]
    }
   ],
   "source": [
    "import numpy as np\n",
    "\n",
    "selector.scores_\n",
    "top_n = np.argsort(selector.scores_)[-k_in:]\n",
    "print(X_y_df.iloc[:, top_n].columns)"
   ]
  },
  {
   "cell_type": "markdown",
   "id": "fc32d1cf-a3f1-444f-bdb7-4fa420a9ddb0",
   "metadata": {},
   "source": [
    "## Notes about forward and backward selection for classification.\n",
    "\n",
    "The only difference when using it for classification vs regression is the model we give it is of course LogisticRegression and the scoring is accuracy"
   ]
  },
  {
   "cell_type": "code",
   "execution_count": 29,
   "id": "805a571d-7ae9-422a-a71b-485b2479c105",
   "metadata": {},
   "outputs": [],
   "source": [
    "from sklearn.feature_selection import SequentialFeatureSelector\n",
    "from sklearn.linear_model import LogisticRegression\n",
    "\n",
    "clf = LogisticRegression(random_state=0, solver='lbfgs', penalty='l2')\n",
    "sfs = SequentialFeatureSelector(clf, n_features_to_select=\"auto\", scoring='accuracy', tol=0.01, direction='forward')\n",
    "sfs.fit(training_set_x_fs, training_set_y)\n",
    "training_set_x_new = sfs.transform(training_set_x_fs)\n",
    "testing_set_x_new = sfs.transform(testing_set_x_fs)"
   ]
  },
  {
   "cell_type": "markdown",
   "id": "9e750f3d-176e-434c-8b9e-fede8935dcd6",
   "metadata": {},
   "source": [
    "## How to do cross validation with StratifiedShuffleSplit\n",
    "\n",
    "We are Using StratifiedShuffle split because it is good practice to shuffle your data before creating your datasets and also we want to make sure we have a balace of classes in our train and test sets\n",
    "\n",
    "We split the data into 4 training sets and 4 testing sets.<br>\n",
    "The indices for the samples used for each dataset are printed below.<br>\n",
    "In your objectives, you are asked to get the log loss and accuracy for every testing set.<br>"
   ]
  },
  {
   "cell_type": "code",
   "execution_count": 30,
   "id": "9a6ca0ad-cac2-4983-8533-eeae9bd7f725",
   "metadata": {},
   "outputs": [
    {
     "name": "stdout",
     "output_type": "stream",
     "text": [
      "TRAIN: [2 7 8 6 9 4 1 3 5] TEST: [11  0 10]\n",
      "TRAIN: [ 8  1 11 10  4  3  6  7  0] TEST: [2 5 9]\n",
      "TRAIN: [10  4  2  1  3  0  6  5 11] TEST: [9 8 7]\n",
      "TRAIN: [ 7  5  8  4  1  2  9  3 10] TEST: [11  6  0]\n"
     ]
    }
   ],
   "source": [
    "from sklearn.model_selection import StratifiedShuffleSplit\n",
    "sss = StratifiedShuffleSplit(n_splits=4, test_size=.25, random_state=0)\n",
    "\n",
    "for train_index, test_index in sss.split(all_scaled, Y):\n",
    "    print(\"TRAIN:\", train_index, \"TEST:\", test_index)\n",
    "    X_train, X_test = all_scaled[train_index], all_scaled[test_index]\n",
    "    y_train, y_test = Y[train_index], Y[test_index]\n"
   ]
  },
  {
   "cell_type": "markdown",
   "id": "4b4044de-f447-4cb9-a17f-740a9017ba39",
   "metadata": {},
   "source": [
    "## How to do LogisticRegressionCV to find the best alpha per class for regularization on the dataset\n",
    "\n",
    "Note: Since our sample data is binary, it, only one alpha is returned. However on multiclass problems, then multiple alphas are returned; one for each class. These alphas gave us the best scores accross each class for the cross validation done internally\n",
    "\n",
    "LogisticRegressionCV follows the same convention as the other scikitlearn classes"
   ]
  },
  {
   "cell_type": "code",
   "execution_count": 31,
   "id": "c9954031-4131-4b12-b70f-b5cb403cd26e",
   "metadata": {},
   "outputs": [
    {
     "name": "stdout",
     "output_type": "stream",
     "text": [
      "[0.001]\n"
     ]
    }
   ],
   "source": [
    "from sklearn.linear_model import LogisticRegressionCV\n",
    "clf_cv = LogisticRegressionCV(Cs=[1e-3, 1e-2, 1e-1, 1], random_state=0, solver='lbfgs', penalty='l2').fit(training_set_x_fs, training_set_y)\n",
    "alpha_per_class = clf_cv.C_\n",
    "print(alpha_per_class)"
   ]
  },
  {
   "cell_type": "markdown",
   "id": "5daedd69-d970-477b-bcdb-2ae77c1962f3",
   "metadata": {},
   "source": [
    "Below is how you predict using LogisticRegressionCV"
   ]
  },
  {
   "cell_type": "code",
   "execution_count": 32,
   "id": "08ecd05d-c305-4a34-8bcd-3889a40ef4ad",
   "metadata": {},
   "outputs": [
    {
     "data": {
      "text/plain": [
       "array([0, 0])"
      ]
     },
     "execution_count": 32,
     "metadata": {},
     "output_type": "execute_result"
    }
   ],
   "source": [
    "clf_cv.predict(testing_set_x_fs)"
   ]
  },
  {
   "cell_type": "markdown",
   "id": "77a56b5b-6959-4907-9f88-922ce645c06c",
   "metadata": {},
   "source": [
    "## How to get log loss"
   ]
  },
  {
   "cell_type": "code",
   "execution_count": 33,
   "id": "5f527d05-87af-48a4-b941-a43aa29c9575",
   "metadata": {},
   "outputs": [
    {
     "data": {
      "text/plain": [
       "0.6931537256697817"
      ]
     },
     "execution_count": 33,
     "metadata": {},
     "output_type": "execute_result"
    }
   ],
   "source": [
    "from sklearn.metrics import log_loss\n",
    "log_loss_g = log_loss(testing_set_y, clf_cv.predict_proba(testing_set_x_fs))\n",
    "log_loss_g"
   ]
  },
  {
   "cell_type": "markdown",
   "id": "cf9c5988-13a4-448e-bb77-f787516d8523",
   "metadata": {},
   "source": [
    "Notice that we are giving it the probabilities of our predictions rather than the actual predictions using the function \"predict_proba\""
   ]
  },
  {
   "cell_type": "markdown",
   "id": "80c0d1ab-2206-46de-8568-6f0aea040d99",
   "metadata": {},
   "source": [
    "# Conclusion\n",
    "\n",
    "- Did the features selected by r_regression and the correlation matrix match up and make sense to you?\n",
    "- Did you notice that when using auto forward selection you ended up with less features than with backward     \n",
    "  elimination?\n",
    "- How different were the features you got accross different feature selection techniques\n",
    "- When you used Cross validation with RidgeCV, LassoCV and LogisticRegressionCV, did you notice that one alpha was chosen for most of the created datasets. Did that alpha line up with the alpha selected when you didnt use Cross Validation?\n",
    "- Did your learning curve look like the ones we discussed in class?\n",
    "\n",
    "Note: These are not questions that need to be answered for marks. They are things I want you to keep in mind and reflect on"
   ]
  }
 ],
 "metadata": {
  "kernelspec": {
   "display_name": "Python 3 (ipykernel)",
   "language": "python",
   "name": "python3"
  },
  "language_info": {
   "codemirror_mode": {
    "name": "ipython",
    "version": 3
   },
   "file_extension": ".py",
   "mimetype": "text/x-python",
   "name": "python",
   "nbconvert_exporter": "python",
   "pygments_lexer": "ipython3",
   "version": "3.9.7"
  }
 },
 "nbformat": 4,
 "nbformat_minor": 5
}
