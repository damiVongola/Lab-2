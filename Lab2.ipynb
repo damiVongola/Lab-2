{
 "cells": [
  {
   "cell_type": "markdown",
   "id": "7dacb346-bfcd-42cf-a1f9-40701837167f",
   "metadata": {},
   "source": [
    "# Loading Regression Data\n",
    "Load appropriate dataset here"
   ]
  },
  {
   "cell_type": "markdown",
   "id": "864ccb7c-dc4b-4748-8e66-ff2f9de1428b",
   "metadata": {},
   "source": [
    "# Multivariate Linear Regression\n",
    "(Split your dataset here)"
   ]
  },
  {
   "cell_type": "markdown",
   "id": "24f1cd1c-f781-4654-9a88-ccffdabf4c10",
   "metadata": {},
   "source": [
    "## Feature selection\n",
    "### Pearsons correlation\n",
    "#### Correlation matrix\n",
    "(Create coleration matrix here)"
   ]
  },
  {
   "cell_type": "markdown",
   "id": "8ee25e5c-259a-4b8e-94d1-2921ab709b37",
   "metadata": {},
   "source": [
    "#### Use pearsons correlation to get the best 5 features. Get mse and rsquared on the testing set"
   ]
  },
  {
   "cell_type": "markdown",
   "id": "c7b2bda7-054a-4918-95e8-9c9059d90e85",
   "metadata": {},
   "source": [
    "##### Show which features were selected"
   ]
  },
  {
   "cell_type": "markdown",
   "id": "d00f1a60-d615-4e8d-a0bd-84dd5afa6f78",
   "metadata": {},
   "source": [
    "### Forward selection\n",
    "\n",
    "#### Use forward selection to get best features with a tol of 0.01 for mean squared error (Calculate mse and rsquared)"
   ]
  },
  {
   "cell_type": "markdown",
   "id": "2fd13582-8236-4b17-9a4f-346cd76f877f",
   "metadata": {},
   "source": [
    "##### Show which features were selected"
   ]
  },
  {
   "cell_type": "markdown",
   "id": "5947d160-c64e-466a-b668-9997e611924b",
   "metadata": {},
   "source": [
    "### Backward selection\n",
    "#### Use backward selection to get best features with a tol of 0.01 for mean squared error (Calculate mse and rsquared)"
   ]
  },
  {
   "cell_type": "markdown",
   "id": "e07f472a-81da-40d3-a2f4-d40912aefcc9",
   "metadata": {},
   "source": [
    "#### Show which features were selected"
   ]
  },
  {
   "cell_type": "markdown",
   "id": "e4083c25-8d47-40bc-8390-00fc6e01e694",
   "metadata": {},
   "source": [
    "### Recursive Feature Elimination\n",
    "#### Use recursive feature elimination to get the best 5 features (Calculate mse and rsquared)"
   ]
  },
  {
   "cell_type": "markdown",
   "id": "c48cb98b-baf7-48b9-ba2d-c65280b42796",
   "metadata": {},
   "source": [
    "##### Show which features were selected"
   ]
  },
  {
   "cell_type": "markdown",
   "id": "f10da98b-8769-488b-a61d-82aa3fecdd58",
   "metadata": {},
   "source": [
    "##### Show ranking of each feature in a dataframe"
   ]
  },
  {
   "cell_type": "markdown",
   "id": "e2be6cfc-36b1-4b4b-92f4-0a1032dfc703",
   "metadata": {},
   "source": [
    "## Cross validation\n",
    "### Use shufflesplit cross validation,\n",
    " - Use LinearRegression \n",
    " - n_splits=4.\n",
    " - test size of 25%\n",
    "  (Calculate mse and rsquared for your testing sets). Write this in a for loop and print out your results for each test set"
   ]
  },
  {
   "cell_type": "markdown",
   "id": "bda66bd5-f01c-4abd-92f1-e18bc716a450",
   "metadata": {},
   "source": [
    "# Regularized Linear Regression\n",
    "## Use RidgeCV class to find best aplha.(Calculate the mse and rsquared). Store and print best alpha found"
   ]
  },
  {
   "cell_type": "markdown",
   "id": "cda71356-e53e-4c4c-a0e6-558aae3b875f",
   "metadata": {},
   "source": [
    "# Cross validation\n",
    "### Use shufflesplit cross validation with:\n",
    "    Ridge with the best alpha found,\n",
    "    n_splits=4.\n",
    "    test set size 0f 25%\n",
    "    (Calculate mse and rsquared for your testing sets). Write this in a for loop and print out your results for each test set"
   ]
  },
  {
   "cell_type": "markdown",
   "id": "0224a41f-96ef-4ca8-9f02-21c981928172",
   "metadata": {},
   "source": [
    "### Use shufflesplit cross validation with:\n",
    "    RidgeCV with the alphas [0.001, 0.01, 0.1, 1],\n",
    "    n_splits=4.\n",
    "    test set size 0f 25%\n",
    "    (Calculate mse and rsquared for your testing sets). Write this in a for loop and print out your results for each test set\n",
    "    Print the alpha picked after every calculation"
   ]
  },
  {
   "cell_type": "markdown",
   "id": "a553b744-8863-441a-96bb-bb7c452c4c5c",
   "metadata": {},
   "source": [
    "## Learning Curves\n",
    "### Plot your training mse and testing mse over increasing examples"
   ]
  },
  {
   "cell_type": "markdown",
   "id": "9d124b4b-7ec5-4dae-bcfb-744440d5b718",
   "metadata": {},
   "source": [
    "# Lasso\n",
    "## Use LassoCV class to find best aplha.(Calculate the mse and rsquared). Store and Print best alpha found"
   ]
  },
  {
   "cell_type": "markdown",
   "id": "21154f28-b715-403e-bbdc-f6b2098265aa",
   "metadata": {},
   "source": [
    "### Figure out which features were selected by Lasso"
   ]
  },
  {
   "cell_type": "markdown",
   "id": "445d0e53-09fa-4fc8-8dcc-750d1ae85d86",
   "metadata": {},
   "source": [
    "### Use shufflesplit cross validation with:\n",
    "    regular Lasso with the best alpaha you got,\n",
    "    n_splits=4.\n",
    "    test set size 0f 25%\n",
    "    (Calculate mse and rsquared for your testing sets). Write this in a for loop and print out your results for each test set"
   ]
  },
  {
   "cell_type": "markdown",
   "id": "786ff8a5-f9ea-4fc5-a2cb-f12c1beccb34",
   "metadata": {},
   "source": [
    "### Use shufflesplit cross validation with:\n",
    "    LassoCV with the alphas [0.001, 0.01, 0.1, 1],\n",
    "    n_splits=4.\n",
    "    test set size 0f 25%\n",
    "    (Calculate mse and rsquared for your testing sets). Write this in a for loop and print out your results for each test set\n",
    "    Print the alpha picked after every calculation"
   ]
  },
  {
   "cell_type": "markdown",
   "id": "809f6f7c-818d-4bf9-8002-6db9400018a4",
   "metadata": {},
   "source": [
    "# Load Classification Data\n",
    "(Load appropriate dataset here)"
   ]
  },
  {
   "cell_type": "markdown",
   "id": "c03efe5d-bda0-46a5-bb58-569a9fcc4604",
   "metadata": {},
   "source": [
    "# Multinomial Logistic Regression\n",
    "(split your data into a train and test set here)"
   ]
  },
  {
   "cell_type": "markdown",
   "id": "d986bb19-480f-479a-b892-0d917f32c020",
   "metadata": {},
   "source": [
    "# Feature scaling\n",
    "(feature scale your data here)"
   ]
  },
  {
   "cell_type": "markdown",
   "id": "3ab4b864-dbd2-456c-9ab8-f521cc0a7691",
   "metadata": {},
   "source": [
    "## Feature Selection\n",
    "### Use chisquare feature_selection to select the best 2 features to use (Calculate the log_loss and accuracy)"
   ]
  },
  {
   "cell_type": "markdown",
   "id": "50dbaf87-d3d1-4679-97a3-41781ffb5fd6",
   "metadata": {},
   "source": [
    "#### Show which features were selected"
   ]
  },
  {
   "cell_type": "markdown",
   "id": "e0c9784f-11fe-4c92-80a6-4a91e39cd9a9",
   "metadata": {},
   "source": [
    "### Use forward selection to get best features with a tol of 0.1 for accuracy (Calculate the log_loss and accuracy)"
   ]
  },
  {
   "cell_type": "markdown",
   "id": "4ee4f2fe-add9-4566-ab2c-455b45963a54",
   "metadata": {},
   "source": [
    "#### Show which features were selected"
   ]
  },
  {
   "cell_type": "markdown",
   "id": "b5b1f7bf-f075-4b37-89af-e4f3f0d630de",
   "metadata": {},
   "source": [
    "### Use backward selection to get best features with a tol of 0.1 for accuracy (Calculate the log_loss and accuracy)"
   ]
  },
  {
   "cell_type": "markdown",
   "id": "ee8c9e6c-e37a-4cb0-bedf-7702cfca0356",
   "metadata": {},
   "source": [
    "#### Show which features were selected"
   ]
  },
  {
   "cell_type": "markdown",
   "id": "09231caa-9e21-41ad-af07-dfca576734f8",
   "metadata": {},
   "source": [
    "### Recursive Feature Elimination\n",
    "#### Use recursive feature elimination to get the best 2 features (Calculate the log_loss and accuracy)"
   ]
  },
  {
   "cell_type": "markdown",
   "id": "b8a22419-01fc-4612-a7b3-54ca982aa6fe",
   "metadata": {},
   "source": [
    "#### Show which features were selected"
   ]
  },
  {
   "cell_type": "markdown",
   "id": "7ea0a646-bf79-4c5b-bb7b-018569dc43ce",
   "metadata": {},
   "source": [
    "##### Show ranking of each feature in a dataframe"
   ]
  },
  {
   "cell_type": "markdown",
   "id": "8c643f53-ecbf-40bb-85cb-e7c3ab4bb54f",
   "metadata": {},
   "source": [
    "## Cross validation\n",
    "### Use StratifiedShuffleSplit cross validation:\n",
    "    Use LogisticRegression,\n",
    "    n_splits=4.\n",
    "    test set size of 25%\n",
    "    (Calculate log_loss and accuracy for your testing sets). Write this in a for loop and print out your results for each test set"
   ]
  },
  {
   "cell_type": "markdown",
   "id": "58642c12-6ece-46b4-a603-87110bce834c",
   "metadata": {},
   "source": [
    "# Regularized Logistic Regression\n",
    "## Use LogisticRegressionCV class to find best aplha for each class.(Calculate the log_loss and accuracy). print best alpha found for each class"
   ]
  },
  {
   "cell_type": "markdown",
   "id": "bab80643-5e69-4469-a9ae-52504debfdf1",
   "metadata": {},
   "source": [
    "### Use StratifiedShuffleSplit cross validation:\n",
    "    LogisticRegressionCV with the best alpha found,\n",
    "    n_splits=4.\n",
    "    test set size 0f 25%\n",
    "    (Calculate mse and rsquared for your testing sets). Write this in a for loop and print out your results for each test set"
   ]
  }
 ],
 "metadata": {
  "kernelspec": {
   "display_name": "Python 3 (ipykernel)",
   "language": "python",
   "name": "python3"
  },
  "language_info": {
   "codemirror_mode": {
    "name": "ipython",
    "version": 3
   },
   "file_extension": ".py",
   "mimetype": "text/x-python",
   "name": "python",
   "nbconvert_exporter": "python",
   "pygments_lexer": "ipython3",
   "version": "3.9.7"
  }
 },
 "nbformat": 4,
 "nbformat_minor": 5
}
